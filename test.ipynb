{
 "cells": [
  {
   "cell_type": "markdown",
   "metadata": {
    "collapsed": true
   },
   "source": [
    "# 標題1\n",
    "## 標題2\n",
    "\n",
    "![圖: xxx](https://www.google.com/logos/doodles/2020/thank-you-doctors-nurses-and-medical-workers-6753651837108754.4-law.gif)\n",
    "\n",
    "[請點我](https://www.google.com/webhp?hl=zh-TW&ictx=2&sa=X&ved=0ahUKEwjujt3XotXoAhUEa94KHS-CC5oQPQgH)\n",
    "\n",
    "姓名 | 身高 | 體重\n",
    "-----|-----|-----\n",
    "paker|178|85\n",
    "Bob|180|80\n",
    "\n",
    "[Latex math](https://en.wikibooks.org/wiki/LaTeX/Mathematics)\n",
    "\n",
    "$ \\frac{1}{2} \\times \\pi R_1^2 $\n",
    "\n",
    "$\n",
    "M = \\begin{bmatrix}\n",
    "       \\frac{5}{6} & \\frac{1}{6} & 0           \\\\\n",
    "       \\frac{5}{6} & 0           & \\frac{1}{6} \\\\\n",
    "       0           & \\frac{5}{6} & \\frac{1}{6}\n",
    "     \\end{bmatrix}\n",
    "$"
   ]
  },
  {
   "cell_type": "code",
   "execution_count": null,
   "metadata": {},
   "outputs": [],
   "source": []
  }
 ],
 "metadata": {
  "kernelspec": {
   "display_name": "Python 3",
   "language": "python",
   "name": "python3"
  },
  "language_info": {
   "codemirror_mode": {
    "name": "ipython",
    "version": 3
   },
   "file_extension": ".py",
   "mimetype": "text/x-python",
   "name": "python",
   "nbconvert_exporter": "python",
   "pygments_lexer": "ipython3",
   "version": "3.7.5"
  }
 },
 "nbformat": 4,
 "nbformat_minor": 1
}
